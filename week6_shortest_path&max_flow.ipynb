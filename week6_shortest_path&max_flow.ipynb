{
 "cells": [
  {
   "cell_type": "markdown",
   "metadata": {},
   "source": [
    "## 1. Shortest Path between 2 nodes on a directed graph with non-negative weights\n",
    "Given a directed graph `G = (V,E)` in which `V = {1,2,...,n)` is the set of nodes. Each arc `(u,v)` has a non-negative weight `w(u,v)`. Given two nodes `s` and t of `G`. Find the shortest path from `s` to `t` on `G`."
   ]
  },
  {
   "cell_type": "code",
   "execution_count": null,
   "metadata": {},
   "outputs": [],
   "source": [
    "# Djikstra's algorithm\n",
    "from heapq import heappush, heappop, heapify\n",
    "from collections import defaultdict\n",
    "class Graph:\n",
    "     def __init__(self, n):\n",
    "          self.graph = defaultdict(dict)\n",
    "     \n",
    "     def add_node(self, u, v, w):\n",
    "          if self.graph[u] is None:\n",
    "               self.graph[u] = {}\n",
    "          self.graph[u][v] = w\n",
    "     def shortest_distance(self, source):\n",
    "          distance = {node: float('inf') for node in self.graph}\n",
    "          distance[source] = 0\n",
    "          visited = set()\n",
    "\n",
    "          pq = [(0, source)]\n",
    "          heapify(pq)\n",
    "          while pq:\n",
    "               current_distance, current_node = heappop(pq)\n",
    "               if current_node in visited:\n",
    "                    continue\n",
    "               visited.add(current_node)\n",
    "               for neighbor, weight in self.graph[current_node].items():\n",
    "                    new_weight = current_distance + weight  \n",
    "                    if new_weight < distance[neighbor]:\n",
    "                         distance[neighbor] = new_weight\n",
    "                         heappush(pq, (new_weight, neighbor))\n",
    "          predecessors = {node: None for node in self.graph}\n",
    "          for node in self.graph:\n",
    "               for neighbor, weight in self.graph[node].items():\n",
    "                    if distance[node] + weight == distance[neighbor]:\n",
    "                         predecessors[neighbor] = node\n",
    "\n",
    "          return distance, predecessors\n",
    "\n",
    "     def shortest_path(self, source, target):\n",
    "          distance, predecessors = self.shortest_distance(source)\n",
    "          path = []\n",
    "          while target:\n",
    "               path.append(target)\n",
    "               target = predecessors[target]\n",
    "          path.reverse()\n",
    "          return distance, path\n",
    "\n",
    "n, m = map(int, input().split())\n",
    "graph = Graph(n)\n",
    "for _ in range(m):\n",
    "     u, v, w = map(int, input().split())\n",
    "     graph.add_node(u, v, w)  \n",
    "source, target = map(int, input().split())\n",
    "distance, path = graph.shortest_path(source, target)\n",
    "print(distance[target], path, sep='\\n')"
   ]
  }
 ],
 "metadata": {
  "language_info": {
   "name": "python"
  }
 },
 "nbformat": 4,
 "nbformat_minor": 2
}
