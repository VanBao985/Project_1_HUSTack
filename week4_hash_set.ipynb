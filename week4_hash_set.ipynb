{
 "cells": [
  {
   "cell_type": "markdown",
   "metadata": {},
   "source": [
    "## 1. Hash Over Strings\n",
    "Given a string `s[1…k]` which is a sequence of characters taken from {‘a’, . . ., ‘z’}. Given a positive integer m, the hash code of s is defined by the formula:\n",
    "$$ H(s) =  (s[1]*256^k-1 + s[2]*256^(k-2 + . . . + s[k]*256^0 ) mod m $$\n",
    "(the contant integer m is a parameter) Given a sequence of strings k1, k2, …, kn, compute the corresponding hash codes\n"
   ]
  },
  {
   "cell_type": "code",
   "execution_count": null,
   "metadata": {},
   "outputs": [],
   "source": [
    "def hash_code(s, m):\n",
    "    k = len(s)\n",
    "    h = 0\n",
    "    power = 256**k\n",
    "    for i in range(k):\n",
    "        power = (power >> 8)\n",
    "        h = (h + ord(s[i]) * power) % m\n",
    "    return h\n",
    "\n",
    "n, m = map(int, input().split()) \n",
    "for _ in range(n):\n",
    "    print(hash_code(input(), m))"
   ]
  },
  {
   "cell_type": "markdown",
   "metadata": {},
   "source": [
    "## 2. Set\n",
    "Cho dãy số nguyên` A1, A2,..., An` với mỗi số nguyên `Ai` kiểm tra xem có số `Aj` nào bằng `Ai` hay không với `j<i`."
   ]
  },
  {
   "cell_type": "code",
   "execution_count": null,
   "metadata": {},
   "outputs": [],
   "source": [
    "n = int(input())    \n",
    "data = list(map(int, input().split()))\n",
    "s = set()\n",
    "for i in range(n):\n",
    "    if data[i] in s:\n",
    "        print(\"1\")\n",
    "    else:\n",
    "        print(\"0\")\n",
    "    s.add(data[i])"
   ]
  },
  {
   "cell_type": "markdown",
   "metadata": {},
   "source": [
    "## 3. Set \n",
    "Two blocks of information. The first block contains a key of `(k1,k2,...,kn)` in each line. The first block is terminated with a line containing *. The second block is a sequence of actions of two finds described above: each line contains 2 string: `cmd` and `k` in which `cmd = find` or `insert` and `k` is the key (parameter of the action). The second block is terminated with a line containing ***. Note that the number of actions can be up to 100000."
   ]
  },
  {
   "cell_type": "code",
   "execution_count": null,
   "metadata": {},
   "outputs": [],
   "source": [
    "s = set()\n",
    "while True:\n",
    "    line = input().strip()\n",
    "    if line == '*':\n",
    "        break\n",
    "    s.add(line)\n",
    "\n",
    "while True:\n",
    "    line = input().strip()\n",
    "    if line == '***':\n",
    "        break\n",
    "    cmd, k = line.split()\n",
    "    if cmd == 'find':\n",
    "        print('1' if k in s else '0')\n",
    "    else:\n",
    "        print('0' if k in s else '1')\n",
    "        s.add(k)"
   ]
  },
  {
   "cell_type": "markdown",
   "metadata": {},
   "source": [
    "Input: computer university school technology phone * <br>\n",
    "find school    find book    insert book     find algorithm    find book     insert book     *** <br>\n",
    "Output: 1   0   1    0    1     0"
   ]
  },
  {
   "cell_type": "markdown",
   "metadata": {},
   "source": [
    "## 4. Set: Sum pair of sequence equal to a number\n",
    "Cho dãy `a1, a2, ..., an` trong đó các phần tử đôi một khác nhau và 1 giá trị nguyên dương `M`. Hãy đếm số `Q` các cặp `(i,j)` sao cho `1 <= i < j <= n` và `ai + aj = M`."
   ]
  },
  {
   "cell_type": "code",
   "execution_count": null,
   "metadata": {},
   "outputs": [],
   "source": [
    "n, M = map(int, input().split())\n",
    "data = set(map(int, input().split()))\n",
    "count = 0\n",
    "for i in data:\n",
    "    if M - i in data and i != M - i:\n",
    "        count += 1\n",
    "print(int(count/2))"
   ]
  }
 ],
 "metadata": {
  "language_info": {
   "name": "python"
  }
 },
 "nbformat": 4,
 "nbformat_minor": 2
}
