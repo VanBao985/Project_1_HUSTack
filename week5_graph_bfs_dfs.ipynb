{
 "cells": [
  {
   "cell_type": "markdown",
   "metadata": {},
   "source": [
    "## 1. Hamiton Cycle\n",
    "Given an undirected graph $G = (V,E)$. Write a program to check if G is a Hamiltonian graph. <br>\n",
    "Line 1: contains 2 integers $n$ and $m (1 <= n,m <= 100000)$ <br>\n",
    "Line $i+1$: contains u and v which are two end-points of the ith edge"
   ]
  },
  {
   "cell_type": "code",
   "execution_count": null,
   "metadata": {},
   "outputs": [],
   "source": [
    "def hamiltonian_cycle(graph, n):\n",
    "    path = [-1] * n\n",
    "    path[0] = 0  # begin at node 0\n",
    "    if is_hamiltonian_cycle(graph, path, 1, n):\n",
    "        return True\n",
    "    return False\n",
    "\n",
    "def is_hamiltonian_cycle(graph, path, pos, n):\n",
    "    if pos == n:  # all nodes are visited: 0-n-1\n",
    "        return True if graph[path[pos-1]][path[0]] == 1 else False\n",
    "    for v in range(1, n):\n",
    "        if is_safe(v, graph, path, pos):\n",
    "            path[pos] = v\n",
    "            if is_hamiltonian_cycle(graph, path, pos+1, n):\n",
    "                return True\n",
    "            path[pos] = -1\n",
    "    return False\n",
    "\n",
    "def is_safe(v, graph, path, pos):\n",
    "    if graph[path[pos-1]][v] == 0:\n",
    "        return False\n",
    "    if v in path:   # already visited\n",
    "        return False\n",
    "    return True\n",
    "\n",
    "\n",
    "k = int(input())\n",
    "for i in range(k):\n",
    "    n, m = map(int,input().split())     # n: number of nodes, m: number of edges\n",
    "    graph = [[0] * n for _ in range(n)] # nxn matrix\n",
    "    for j in range(m):\n",
    "        edge = list(map(int, input().split()))\n",
    "        graph[edge[0]-1][edge[1]-1] = 1\n",
    "        graph[edge[1]-1][edge[0]-1] = 1\n",
    "    print(\"1\" if hamiltonian_cycle(graph, n) else \"0\")"
   ]
  },
  {
   "cell_type": "markdown",
   "metadata": {},
   "source": [
    "## 2. DFS algorithm\n",
    "Given a undirected graph $(V,E)$ in which $V = {1,2,..,n}$ is the set of nodes. Write a program that visit nodes of G by a `DFS` (consider a lexicorgraphic order of nodes)."
   ]
  },
  {
   "cell_type": "code",
   "execution_count": null,
   "metadata": {},
   "outputs": [],
   "source": [
    "# Order by stack\n",
    "def dfs(graph, start, visited, result):\n",
    "    stack = [start]\n",
    "    while stack:\n",
    "        node = stack.pop()  # pop the last element\n",
    "        if not visited[node]:\n",
    "          result.append(node)\n",
    "          visited[node] = True\n",
    "          for neighbor in sorted(graph[node], reverse=True):  #descending order\n",
    "             if not visited[neighbor]:\n",
    "                 stack.append(neighbor)\n",
    "\n",
    "    while len(result) < len(visited):\n",
    "        for i in range(1, len(visited)+1):\n",
    "            if not visited[i]:\n",
    "                dfs(graph, i, visited, result)\n",
    "                continue\n",
    "    return result\n",
    "\n",
    "n, m= map(int, input().split())    \n",
    "# store the graph in an adjacency list\n",
    "graph = {i: [] for i in range(1, n+1)}  \n",
    "for i in range(m):\n",
    "    a, b = map(int, input().split())\n",
    "    graph[a].append(b)\n",
    "    graph[b].append(a) \n",
    "\n",
    "visited = {i: False for i in range(1, n+1)}\n",
    "result = []\n",
    "dfs(graph, 1, visited, result)\n",
    "print(\" \".join(map(str, result)))"
   ]
  },
  {
   "cell_type": "markdown",
   "metadata": {},
   "source": [
    "## 3. BFS algorithm\n",
    "Given undirected graph $G = (V,E)$ in which $V = {1, 2, ..., n}$ is the set of nodes, and E is the set of m edges. Write a program that computes the sequence of nodes visited using a BFS algorithm (the nodes are considered in a lexicographic order)\n"
   ]
  },
  {
   "cell_type": "code",
   "execution_count": null,
   "metadata": {},
   "outputs": [],
   "source": [
    "# order by queue\n",
    "def bfs(graph, start, visited, result):\n",
    "    queue = [start]\n",
    "    visited[start] = True\n",
    "    while queue:\n",
    "        node = queue.pop(0)\n",
    "        result.append(node) \n",
    "        for neighbor in sorted(graph[node]):\n",
    "            if not visited[neighbor]:\n",
    "                queue.append(neighbor)\n",
    "                visited[neighbor] = True\n",
    "    while len(result) < len(visited):\n",
    "        for i in range(1, len(visited)+1):\n",
    "            if not visited[i]:\n",
    "                bfs(graph, i, visited, result)\n",
    "                continue\n",
    "\n",
    "n, m = map(int, input().split())\n",
    "graph = {i: [] for i in range(1, n+1)}\n",
    "for _ in range(m):\n",
    "    a, b = map(int, input().split())\n",
    "    graph[a].append(b)\n",
    "    graph[b].append(a)\n",
    "visited = {i: False for i in range(1, n+1)} \n",
    "result = []\n",
    "bfs(graph, 1, visited, result) \n",
    "print(\" \".join(map(str, result)))"
   ]
  },
  {
   "cell_type": "markdown",
   "metadata": {},
   "source": [
    "## 4. Minimum Spanning Tree - Kruskal\n",
    "Given a undirected connected graph $G=(V,E)$ where $V={1,…,N}$. Each edge $(u,v)∈E(u,v)∈E$ has weight $w(u,v)$. Compute minimum spanning tree of $G$. <br>\n",
    "Kruskal's algorithm is a greedy algorithm that finds a minimum spanning tree for a connected weighted graph.\n"
   ]
  },
  {
   "cell_type": "code",
   "execution_count": null,
   "metadata": {},
   "outputs": [],
   "source": [
    "class UnionFind:\n",
    "    def __init__(self, n):\n",
    "        self.parent = list(range(0, n))  \n",
    "        self.rank = [0] * n   # the depth of the tree rooted at i\n",
    "    \n",
    "    def find(self, u):\n",
    "        if self.parent[u] != u:\n",
    "            self.parent[u] = self.find(self.parent[u])\n",
    "        return self.parent[u]\n",
    "    \n",
    "    def union(self, u, v):\n",
    "        root_u = self.find(u)\n",
    "        root_v = self.find(v)\n",
    "        if root_u != root_v:\n",
    "            if self.rank[root_u] > self.rank[root_v]:\n",
    "                self.parent[root_v] = root_u\n",
    "            else:\n",
    "                self.parent[root_u] = root_v\n",
    "                if self.rank[root_u] == self.rank[root_v]:\n",
    "                    self.rank[root_v] += 1\n",
    "\n",
    "def kruskal(n, edges):\n",
    "    uf = UnionFind(n)\n",
    "    mst = 0\n",
    "    for u, v, w in edges:\n",
    "        if uf.find(u) != uf.find(v):\n",
    "            uf.union(u, v)\n",
    "            mst += w\n",
    "    return mst\n",
    "\n",
    "n, m = map(int, input().split())\n",
    "edges = []\n",
    "for _ in range(m):\n",
    "    u, v, w = map(int, input().split())\n",
    "    edges.append((u-1, v-1, w))\n",
    "\n",
    "edges.sort(key=lambda x: x[2])  # sort by weight\n",
    "print(kruskal(n, edges))"
   ]
  }
 ],
 "metadata": {
  "language_info": {
   "name": "python"
  }
 },
 "nbformat": 4,
 "nbformat_minor": 2
}
