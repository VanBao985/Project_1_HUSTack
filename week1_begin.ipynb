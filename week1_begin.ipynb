{
 "cells": [
  {
   "cell_type": "markdown",
   "metadata": {},
   "source": [
    "## 1. Format datetime"
   ]
  },
  {
   "cell_type": "code",
   "execution_count": null,
   "metadata": {},
   "outputs": [],
   "source": [
    "import datetime\n",
    "\n",
    "s = input()\n",
    "try:\n",
    "    datetime.date.fromisoformat(s)\n",
    "    # print(s.replace(\"-\", \" \"))\n",
    "    date = datetime.datetime.strptime(s, \"%Y-%m-%d\")\n",
    "    print(date.strftime(\"%Y\"), end=\" \")\n",
    "    print(int(date.strftime(\"%m\")), end=\" \")\n",
    "    print(int(date.strftime(\"%d\")))\n",
    "except ValueError:\n",
    "    print(\"INCORRECT\")"
   ]
  },
  {
   "cell_type": "markdown",
   "metadata": {},
   "source": [
    "## 2. Format time"
   ]
  },
  {
   "cell_type": "code",
   "execution_count": null,
   "metadata": {},
   "outputs": [],
   "source": [
    "from time import *\n",
    "\n",
    "s = input()\n",
    "try:\n",
    "    if (len(s)!=8):\n",
    "        raise ValueError\n",
    "    t = strptime(s, \"%H:%M:%S\")\n",
    "    sec = t.tm_hour * 3600 + t.tm_min * 60 + t.tm_sec\n",
    "    print(sec)\n",
    "except ValueError:\n",
    "    print(\"INCORRECT\")"
   ]
  },
  {
   "cell_type": "markdown",
   "metadata": {},
   "source": [
    "## 3.Solve 2 degree equation"
   ]
  },
  {
   "cell_type": "code",
   "execution_count": null,
   "metadata": {},
   "outputs": [],
   "source": [
    "import numpy as np\n",
    "import math \n",
    "\n",
    "l = input().split()\n",
    "data = [eval(x) for x in l]\n",
    "\n",
    "root = np.roots(data)\n",
    "if isinstance(root[0], complex) == True:\n",
    "    print(\"NO SOLUTION\")\n",
    "elif root[0] == root[1]:\n",
    "    print(format(root[0], \".2f\"))\n",
    "else: \n",
    "    print(format(root[0], \".2f\"), end=\" \")\n",
    "    print(format(root[1], \".2f\"))"
   ]
  },
  {
   "cell_type": "markdown",
   "metadata": {},
   "source": [
    "## 4. Subsequence even"
   ]
  },
  {
   "cell_type": "code",
   "execution_count": null,
   "metadata": {},
   "outputs": [],
   "source": [
    "line1 = input().split()\n",
    "line2 = input().split()\n",
    "\n",
    "n, k = int(line1[0]), int(line1[-1])\n",
    "data = [eval(x) for x in line2]\n",
    "\n",
    "cnt = 0\n",
    "current_sum = sum(data[:k])\n",
    "if current_sum % 2 == 0: cnt = 1 \n",
    "\n",
    "for i in range(n-k):\n",
    "    current_sum = current_sum - data[i] + data[k+i]\n",
    "    if current_sum % 2 == 0:\n",
    "        cnt += 1\n",
    "print(cnt)"
   ]
  }
 ],
 "metadata": {
  "language_info": {
   "name": "python"
  }
 },
 "nbformat": 4,
 "nbformat_minor": 2
}
